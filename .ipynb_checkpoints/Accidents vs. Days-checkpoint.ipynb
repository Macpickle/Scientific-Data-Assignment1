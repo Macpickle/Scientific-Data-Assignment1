{
 "cells": [
  {
   "cell_type": "markdown",
   "id": "3c4115a8",
   "metadata": {},
   "source": [
    "# Introduction: The Issue"
   ]
  },
  {
   "cell_type": "markdown",
   "id": "545c6f00",
   "metadata": {},
   "source": [
    "Throughout the week automobiles transport billions across the globe, facilitation the flow of people and goods essential for the modern world. Vehicles connect communities and economies around the world to further evolve the world to higher levels. The impact of automobiles extend beyond just transportation, they impact urban plans and social dynamics as having the independence of a vehicle gives the user to pursue opportunities that they once couldn't. from these daily driving patterns, a crucial question arises: does the time of day, or the day of the week influence the amount of accidents that occur within a given day? Exploring this problem can provide invaluable insight into driving habits we should have to increase safety while driving. It can also influence policymakers to change policies to ensure a much safer driving experience for all drivers. \n",
    "To investigate this issues, I utilized a dataset sourced from Kaggle, a website that provides open source data sets that can be analyzed and studied to find trends driving habits. This dataset used to analyze this problem spans the years 2017 to 2020 providing over 12000 incidents and is derived from authentic manual records of road traffic accidents.\n",
    "Viewing this data provides with many questions that I was eager to explore further in order to enhance my understanding of driving habits and safety. As I am a newer driver, analyzing this dataset will provide insight to keep me informed to further protect myself from any dangers on the road. The many complexetities of driving patterns and various factors that affect a safe driving experience is important to me to study and understand to ensure my safety on the road."
   ]
  },
  {
   "cell_type": "markdown",
   "id": "b744f75b",
   "metadata": {},
   "source": [
    "# The Analysis"
   ]
  },
  {
   "cell_type": "markdown",
   "id": "a08f75ba",
   "metadata": {},
   "source": [
    "### Imports\n",
    "To develop this data into a clean data set some Python imports are needed to be able to break up the data into neat arrays to manipulate it into several ways. For data analsys, Pandas is used and for graph plotting, Matplotlib is used via these imports:\n",
    "\n",
    "```python\n",
    "import pandas as pd\n",
    "import matplotlib.pyplot as plt\n",
    "```"
   ]
  },
  {
   "cell_type": "markdown",
   "id": "cd55d9a6",
   "metadata": {},
   "source": [
    "### Constructor Class\n",
    "Then, a class was defined to be able to parse and break up the data, When data is initalized a parameter is used for the file name to be able to load the data. It will first set a class variable is declared that will allow the file reference to be used across the class. Then, the class will load the file with its **loadfile** class:\n",
    "\n",
    "```python\n",
    "def __init__(self, file):\n",
    "    self.file = file\n",
    "    self.loadfile()\n",
    "```"
   ]
  },
  {
   "cell_type": "markdown",
   "id": "8bf1176a",
   "metadata": {},
   "source": [
    "### Cleaning and Manipulation\n",
    "Within the **loadfile** class, data is read via Pandas,\n",
    "First, it will read the given file, converting it into a Pandas array to be analyzed\n",
    "\n",
    "Then, the days of the week is picked out of the array, and is then counted based on the number of columns that contain the day of the week.\n",
    "A similar approach is given for the time of day, but is needed to be converted to a datetime to sort by time, then gets rounded to the nearest 30 minute interval. It is then also converted to a HH:MM format to be easily displayed on a graph\n",
    "\n",
    "Finally, the collected and manipulated data is put nicely together into a python dictionary to be easily accessed at a different time.\n",
    "\n",
    "```python\n",
    "def loadfile(self):\n",
    "    # reads csv then formats for specific columns\n",
    "    self.data = pd.read_csv(self.file, usecols=[\"Day_of_week\", \"Time\"])\n",
    "    \n",
    "    # clean data, counts number of occurences in set\n",
    "    self.data_dayofweek = self.data[\"Day_of_week\"].value_counts()\n",
    "    self.data_dayofweek = self.data_dayofweek.sort_index()\n",
    "    \n",
    "    # convert time column to max within 30 minutes\n",
    "    self.data[\"Time\"] = pd.to_datetime(self.data[\"Time\"],format=\"%H:%M:%S\").dt.round(\"30min\") # round to nearest 30 mininterval\n",
    "    self.data[\"Time\"] = self.data[\"Time\"].dt.strftime(\"%H:%M\") # justget time from to_datetime\n",
    "\n",
    "    # Count occurrences of each time slot\n",
    "    self.data_timeofday = self.data[\"Time\"].value_counts()\n",
    "    self.data_timeofday = self.data_timeofday.sort_index()\n",
    "    \n",
    "    # for x axis days of week\n",
    "    self.days = [\"Sunday\", \"Monday\", \"Tuesday\", \"Wednesday\", \"Thursday\",\"Friday\", \"Saturade\"]\n",
    "    \n",
    "    # put into a dictionary\n",
    "    self.dayofweek = {\n",
    "        \"type\": \"bar\",\n",
    "        \"x_axis\": self.days,\n",
    "        \"x_axis_title\": \"Day of the Week (Day)\",\n",
    "        \"y_axis\": self.data_dayofweek.values,\n",
    "        \"y_axis_title\": \"Number of Accidents\",\n",
    "        \"graph_title\": \"Number of Accidents per Day of the Week\"\n",
    "    }\n",
    "    \n",
    "    self.timeofday = {\n",
    "        \"type\": \"line\",\n",
    "        \"x_axis\": self.data_timeofday.index.astype(str),\n",
    "        \"x_axis_title\": \"Time of Day (Hour:Minutes)\",\n",
    "        \"y_axis\": self.data_timeofday.values,\n",
    "        \"y_axis_title\": \"Number of Accidents\",\n",
    "        \"graph_title\": \"Number of Accidents per Time of Day\"\n",
    "    }\n",
    "```"
   ]
  },
  {
   "cell_type": "markdown",
   "id": "2e7c4a2b",
   "metadata": {},
   "source": [
    "### Visualization\n",
    "\n",
    "To visualize this data, Matplotlib is used to generate a bar and line chart to fully illustrate the findings with this data using the **graph** class method.\n",
    "First, the type of chart is decided based on the data dictionary type, if an appropriate type is given the plot is created\n",
    "\n",
    "Then, the graph is manipulated to make an easy to look at graph by providing axis labels, rotating the X axis and the title to decide what the graph is depicting.\n",
    "\n",
    "```python\n",
    "def graph(self, dataset):\n",
    "    # change plot type based on type\n",
    "    match dataset[\"type\"]:\n",
    "        case \"bar\":\n",
    "            plt.bar(dataset[\"x_axis\"], dataset[\"y_axis\"])\n",
    "        case \"line\":\n",
    "            plt.plot(dataset[\"x_axis\"], dataset[\"y_axis\"])\n",
    "        case _:\n",
    "            raise \"Invalid Option\"\n",
    "\n",
    "    # styling and labels\n",
    "    plt.xlabel(dataset[\"x_axis_title\"])\n",
    "    plt.xticks(rotation=90) \n",
    "    plt.ylabel(dataset[\"y_axis_title\"])\n",
    "    plt.title(dataset[\"graph_title\"])\n",
    "    plt.show()\n",
    "```\n",
    "\n",
    "<div class=\"alert alert-block alert-info\">\n",
    "<b>Note:</b> The graph method is not called automatically by __init__, it must be called within the main function if you wish to change the graph dataset.\n",
    "</div>\n",
    "\n"
   ]
  },
  {
   "cell_type": "markdown",
   "id": "491647d0",
   "metadata": {
    "jp-MarkdownHeadingCollapsed": true
   },
   "source": [
    "# The Findings\n",
    "\n",
    "### Days of Week VS. Number of Accidents\n",
    "<img src=\"./assets/Day_of_Week_Graph.png\" alt=\"A graph depicting Days of Week VS. Number of Accidents\"/>\n",
    "\n",
    "### Time of day VS. Number of Accidents\n",
    "<img src=\"./assets/Time_of_Day_Graph.png\" alt=\"A graph depicting Time of day VS. Number of Accidents\"/>\n"
   ]
  }
 ],
 "metadata": {
  "kernelspec": {
   "display_name": "Python 3 (ipykernel)",
   "language": "python",
   "name": "python3"
  },
  "language_info": {
   "codemirror_mode": {
    "name": "ipython",
    "version": 3
   },
   "file_extension": ".py",
   "mimetype": "text/x-python",
   "name": "python",
   "nbconvert_exporter": "python",
   "pygments_lexer": "ipython3",
   "version": "3.11.5"
  }
 },
 "nbformat": 4,
 "nbformat_minor": 5
}
